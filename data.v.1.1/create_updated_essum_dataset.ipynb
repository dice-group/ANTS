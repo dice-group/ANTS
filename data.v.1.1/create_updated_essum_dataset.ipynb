{
 "cells": [
  {
   "cell_type": "code",
   "execution_count": 1,
   "id": "67fb6fdf-f077-4d62-abc0-58e194dfb8b5",
   "metadata": {},
   "outputs": [
    {
     "name": "stdout",
     "output_type": "stream",
     "text": [
      "http://dbpedia.org/resource/3WAY_FM\n",
      "http://dbpedia.org/resource/Roderick_Carr\n",
      "http://dbpedia.org/resource/2009–10_Swiss_Cup\n",
      "http://dbpedia.org/resource/2011_Kor_Royal_Cup\n",
      "http://dbpedia.org/resource/2011_League_of_Ireland_Cup_Final\n",
      "http://dbpedia.org/resource/2011_Sparta_Prague_Open\n",
      "http://dbpedia.org/resource/A._Scott_Sloan\n",
      "http://dbpedia.org/resource/Juhan_Muks\n",
      "http://dbpedia.org/resource/Lucy_Ward_(musician)\n",
      "http://dbpedia.org/resource/Roque_Ceruti\n",
      "http://dbpedia.org/resource/Battle_of_Sampur\n",
      "http://dbpedia.org/resource/Battle_of_Zacatecas_(1914)\n",
      "http://dbpedia.org/resource/Convoy_HX_156\n",
      "http://dbpedia.org/resource/2012–13_UEFA_Champions_League\n",
      "http://dbpedia.org/resource/Raid_on_Griessie\n",
      "http://dbpedia.org/resource/Ayrovo\n",
      "http://dbpedia.org/resource/Fleckistock\n",
      "http://dbpedia.org/resource/Henlow\n",
      "http://dbpedia.org/resource/North_Haledon,_New_Jersey\n",
      "http://dbpedia.org/resource/Tchonoro\n",
      "http://dbpedia.org/resource/Gerbil_mouse\n",
      "http://dbpedia.org/resource/Nemapogon_nigralbella\n",
      "http://dbpedia.org/resource/Battle_of_Bregalnica\n",
      "http://dbpedia.org/resource/Schistura_jarutanini\n",
      "http://dbpedia.org/resource/Can_U_Get_wit_It\n",
      "http://dbpedia.org/resource/Silence_Is_Easy_(song)\n",
      "http://dbpedia.org/resource/The_Honolulu_Advertiser\n",
      "http://dbpedia.org/resource/You_Better_Run\n",
      "http://dbpedia.org/resource/Battle_of_Rottofreddo\n",
      "http://dbpedia.org/resource/Burgery_ambush\n",
      "http://dbpedia.org/resource/Massacre_on_34th_Street\n",
      "http://dbpedia.org/resource/Adrian_Griffin\n",
      "http://dbpedia.org/resource/Triathlon_at_the_2000_Summer_Olympics_–_Men's\n",
      "http://dbpedia.org/resource/Akalwadi\n",
      "http://dbpedia.org/resource/Chitita\n",
      "http://dbpedia.org/resource/Kuleh_Bayan\n",
      "http://dbpedia.org/resource/Reamer_Barn\n",
      "http://dbpedia.org/resource/Richmond–Petersburg_Turnpike\n",
      "http://dbpedia.org/resource/Uelsby\n",
      "http://dbpedia.org/resource/Wehlaberg\n",
      "http://dbpedia.org/resource/Wernshausen\n",
      "http://dbpedia.org/resource/Andrew_Kippis\n",
      "http://dbpedia.org/resource/Yayoidai_Station\n",
      "http://dbpedia.org/resource/African_grey_hornbill\n",
      "http://dbpedia.org/resource/Bornean_mountain_ground_squirrel\n",
      "http://dbpedia.org/resource/Enallagma_truncatum\n",
      "http://dbpedia.org/resource/Lepiota_helveola\n",
      "http://dbpedia.org/resource/Lygodium_microphyllum\n",
      "http://dbpedia.org/resource/Ovophis\n",
      "http://dbpedia.org/resource/Rubus_arizonensis\n",
      "http://dbpedia.org/resource/Siamese_mud_carp\n",
      "http://dbpedia.org/resource/Anthony_Beaumont-Dark\n",
      "http://dbpedia.org/resource/Trachelipus_dimorphus\n",
      "http://dbpedia.org/resource/Hey_Boy_(Teddybears_song)\n",
      "http://dbpedia.org/resource/King_of_the_Mountain_(film)\n",
      "http://dbpedia.org/resource/Our_Leading_Citizen_(1939_film)\n",
      "http://dbpedia.org/resource/Simon_(2004_film)\n",
      "http://dbpedia.org/resource/Sky_(Faye_Wong_album)\n",
      "http://dbpedia.org/resource/Sting_Me\n",
      "http://dbpedia.org/resource/The_Crowd_Snores\n",
      "http://dbpedia.org/resource/Dallas_Keuchel\n",
      "http://dbpedia.org/resource/Touch_of_Death_(1961_film)\n",
      "http://dbpedia.org/resource/Ashot_I_of_Iberia\n",
      "http://dbpedia.org/resource/Cindy_Mackey\n",
      "http://dbpedia.org/resource/Edmund_Smith_Conklin\n",
      "http://dbpedia.org/resource/Fabrice_Gautrat\n",
      "http://dbpedia.org/resource/Hiroshi_Mori_(writer)\n",
      "http://dbpedia.org/resource/Momchil_Tsvetanov\n",
      "http://dbpedia.org/resource/Najmadin_Shukr_Rauf\n",
      "http://dbpedia.org/resource/Storme_Warren\n",
      "http://dbpedia.org/resource/E._K._Mawlong\n",
      "http://dbpedia.org/resource/1960_Glover_Trophy\n",
      "http://dbpedia.org/resource/1967_Italian_Grand_Prix\n",
      "http://dbpedia.org/resource/2008_Copa_del_Rey_Final\n",
      "http://dbpedia.org/resource/2010_Belgian_Super_Cup\n",
      "http://dbpedia.org/resource/2013_Slovak_Cup_Final\n",
      "http://dbpedia.org/resource/Battle_of_Cepeda_(1820)\n",
      "http://dbpedia.org/resource/Battle_on_the_Elster\n",
      "http://dbpedia.org/resource/Finn_Schiander\n",
      "http://dbpedia.org/resource/Operation_Hump\n",
      "http://dbpedia.org/resource/Darreh_Dang\n",
      "http://dbpedia.org/resource/Jalalia,_Khyber_Pakhtunkhwa\n",
      "http://dbpedia.org/resource/Kings_Ripton\n",
      "http://dbpedia.org/resource/Kotumachagi\n",
      "http://dbpedia.org/resource/Muławki\n",
      "http://dbpedia.org/resource/Pinnacle_Mountain_(South_Carolina)\n",
      "http://dbpedia.org/resource/Saint-Raphaël,_Var\n",
      "http://dbpedia.org/resource/Sauxillanges\n",
      "http://dbpedia.org/resource/Stara_Bučka\n",
      "http://dbpedia.org/resource/Hagar_Wilde\n",
      "http://dbpedia.org/resource/Zarudcze\n",
      "http://dbpedia.org/resource/Amphisbaena_ridleyi\n",
      "http://dbpedia.org/resource/Balanites\n",
      "http://dbpedia.org/resource/Bryotropha_plantariella\n",
      "http://dbpedia.org/resource/Hilarographa_excellens\n",
      "http://dbpedia.org/resource/Inverted_repeat-lacking_clade\n",
      "http://dbpedia.org/resource/Melaleuca_sheathiana\n",
      "http://dbpedia.org/resource/Pseudanos_trimaculatus\n",
      "http://dbpedia.org/resource/Stemonoporus_laevifolius\n",
      "http://dbpedia.org/resource/Thaia_saprophytica\n",
      "http://dbpedia.org/resource/Trichoscypha_cavalliensis\n",
      "http://dbpedia.org/resource/392_(album)\n",
      "http://dbpedia.org/resource/Drama_City\n",
      "http://dbpedia.org/resource/If_(Glasvegas_song)\n",
      "http://dbpedia.org/resource/Intensive_Care_Medicine_(journal)\n",
      "http://dbpedia.org/resource/It's_Still_Rock_and_Roll_to_Me\n",
      "http://dbpedia.org/resource/Politiken\n",
      "http://dbpedia.org/resource/Rebel_Love_Song\n",
      "http://dbpedia.org/resource/Terrorist_Threats\n",
      "http://dbpedia.org/resource/Time_(Dave_Clark_album)\n"
     ]
    }
   ],
   "source": [
    "import pandas as pd\n",
    "essum_dataset = \"ESBM-DBpedia\" # other dataset is \"FACES\"\n",
    "entity_df= pd.read_csv(f'data.v.1.2/{essum_dataset}/elist.txt', sep='\\t')\n",
    "entity_df.columns = entity_df.columns.str.strip()  # Remove extra whitespace\n",
    "entity_uris = entity_df['euri']  # Should now work\n",
    "# Display URIs\n",
    "for entity in entity_uris:\n",
    "    print(entity)"
   ]
  },
  {
   "cell_type": "code",
   "execution_count": 2,
   "id": "ea58f244-5c3b-4186-8a07-e641174152f5",
   "metadata": {},
   "outputs": [
    {
     "name": "stderr",
     "output_type": "stream",
     "text": [
      "  2%|▏         | 2/110 [00:00<00:21,  4.92it/s]"
     ]
    },
    {
     "name": "stdout",
     "output_type": "stream",
     "text": [
      "Saved to: 3WAY_FM.txt\n",
      "Saved to: Roderick_Carr.txt\n"
     ]
    },
    {
     "name": "stderr",
     "output_type": "stream",
     "text": [
      "  4%|▎         | 4/110 [00:00<00:18,  5.74it/s]"
     ]
    },
    {
     "name": "stdout",
     "output_type": "stream",
     "text": [
      "Saved to: 2009–10_Swiss_Cup.txt\n",
      "Saved to: 2011_Kor_Royal_Cup.txt\n"
     ]
    },
    {
     "name": "stderr",
     "output_type": "stream",
     "text": [
      "  5%|▌         | 6/110 [00:01<00:20,  5.09it/s]"
     ]
    },
    {
     "name": "stdout",
     "output_type": "stream",
     "text": [
      "Saved to: 2011_League_of_Ireland_Cup_Final.txt\n",
      "Saved to: 2011_Sparta_Prague_Open.txt\n"
     ]
    },
    {
     "name": "stderr",
     "output_type": "stream",
     "text": [
      "  7%|▋         | 8/110 [00:01<00:22,  4.44it/s]"
     ]
    },
    {
     "name": "stdout",
     "output_type": "stream",
     "text": [
      "Saved to: A._Scott_Sloan.txt\n",
      "Saved to: Juhan_Muks.txt\n"
     ]
    },
    {
     "name": "stderr",
     "output_type": "stream",
     "text": [
      "  9%|▉         | 10/110 [00:02<00:17,  5.68it/s]"
     ]
    },
    {
     "name": "stdout",
     "output_type": "stream",
     "text": [
      "Saved to: Lucy_Ward_(musician).txt\n",
      "Saved to: Roque_Ceruti.txt\n"
     ]
    },
    {
     "name": "stderr",
     "output_type": "stream",
     "text": [
      " 11%|█         | 12/110 [00:02<00:15,  6.35it/s]"
     ]
    },
    {
     "name": "stdout",
     "output_type": "stream",
     "text": [
      "Saved to: Battle_of_Sampur.txt\n",
      "Saved to: Battle_of_Zacatecas_(1914).txt\n"
     ]
    },
    {
     "name": "stderr",
     "output_type": "stream",
     "text": [
      " 14%|█▎        | 15/110 [00:02<00:12,  7.75it/s]"
     ]
    },
    {
     "name": "stdout",
     "output_type": "stream",
     "text": [
      "Saved to: Convoy_HX_156.txt\n",
      "Saved to: 2012–13_UEFA_Champions_League.txt\n",
      "Saved to: Raid_on_Griessie.txt\n"
     ]
    },
    {
     "name": "stderr",
     "output_type": "stream",
     "text": [
      " 15%|█▌        | 17/110 [00:03<00:20,  4.61it/s]"
     ]
    },
    {
     "name": "stdout",
     "output_type": "stream",
     "text": [
      "Saved to: Ayrovo.txt\n",
      "Saved to: Fleckistock.txt\n",
      "Saved to: Henlow.txt\n"
     ]
    },
    {
     "name": "stderr",
     "output_type": "stream",
     "text": [
      " 18%|█▊        | 20/110 [00:03<00:16,  5.44it/s]"
     ]
    },
    {
     "name": "stdout",
     "output_type": "stream",
     "text": [
      "Saved to: North_Haledon,_New_Jersey.txt\n",
      "Saved to: Tchonoro.txt\n"
     ]
    },
    {
     "name": "stderr",
     "output_type": "stream",
     "text": [
      " 19%|█▉        | 21/110 [00:04<00:16,  5.51it/s]"
     ]
    },
    {
     "name": "stdout",
     "output_type": "stream",
     "text": [
      "Saved to: Gerbil_mouse.txt\n"
     ]
    },
    {
     "name": "stderr",
     "output_type": "stream",
     "text": [
      " 22%|██▏       | 24/110 [00:04<00:19,  4.39it/s]"
     ]
    },
    {
     "name": "stdout",
     "output_type": "stream",
     "text": [
      "Saved to: Nemapogon_nigralbella.txt\n",
      "Saved to: Battle_of_Bregalnica.txt\n",
      "Saved to: Schistura_jarutanini.txt\n"
     ]
    },
    {
     "name": "stderr",
     "output_type": "stream",
     "text": [
      " 24%|██▎       | 26/110 [00:05<00:19,  4.41it/s]"
     ]
    },
    {
     "name": "stdout",
     "output_type": "stream",
     "text": [
      "Saved to: Can_U_Get_wit_It.txt\n",
      "Saved to: Silence_Is_Easy_(song).txt\n"
     ]
    },
    {
     "name": "stderr",
     "output_type": "stream",
     "text": [
      " 25%|██▍       | 27/110 [00:05<00:17,  4.68it/s]"
     ]
    },
    {
     "name": "stdout",
     "output_type": "stream",
     "text": [
      "Saved to: The_Honolulu_Advertiser.txt\n"
     ]
    },
    {
     "name": "stderr",
     "output_type": "stream",
     "text": [
      " 26%|██▋       | 29/110 [00:06<00:16,  5.05it/s]"
     ]
    },
    {
     "name": "stdout",
     "output_type": "stream",
     "text": [
      "Saved to: You_Better_Run.txt\n",
      "Saved to: Battle_of_Rottofreddo.txt\n"
     ]
    },
    {
     "name": "stderr",
     "output_type": "stream",
     "text": [
      " 27%|██▋       | 30/110 [00:06<00:14,  5.49it/s]"
     ]
    },
    {
     "name": "stdout",
     "output_type": "stream",
     "text": [
      "Saved to: Burgery_ambush.txt\n"
     ]
    },
    {
     "name": "stderr",
     "output_type": "stream",
     "text": [
      " 28%|██▊       | 31/110 [00:06<00:18,  4.38it/s]"
     ]
    },
    {
     "name": "stdout",
     "output_type": "stream",
     "text": [
      "Saved to: Massacre_on_34th_Street.txt\n",
      "Saved to: Adrian_Griffin.txt\n"
     ]
    },
    {
     "name": "stderr",
     "output_type": "stream",
     "text": [
      " 31%|███       | 34/110 [00:06<00:12,  5.88it/s]"
     ]
    },
    {
     "name": "stdout",
     "output_type": "stream",
     "text": [
      "Saved to: Triathlon_at_the_2000_Summer_Olympics_–_Men's.txt\n",
      "Saved to: Akalwadi.txt\n"
     ]
    },
    {
     "name": "stderr",
     "output_type": "stream",
     "text": [
      " 33%|███▎      | 36/110 [00:07<00:11,  6.29it/s]"
     ]
    },
    {
     "name": "stdout",
     "output_type": "stream",
     "text": [
      "Saved to: Chitita.txt\n",
      "Saved to: Kuleh_Bayan.txt\n"
     ]
    },
    {
     "name": "stderr",
     "output_type": "stream",
     "text": [
      " 35%|███▍      | 38/110 [00:07<00:11,  6.52it/s]"
     ]
    },
    {
     "name": "stdout",
     "output_type": "stream",
     "text": [
      "Saved to: Reamer_Barn.txt\n",
      "Saved to: Richmond–Petersburg_Turnpike.txt\n"
     ]
    },
    {
     "name": "stderr",
     "output_type": "stream",
     "text": [
      " 36%|███▋      | 40/110 [00:07<00:09,  7.05it/s]"
     ]
    },
    {
     "name": "stdout",
     "output_type": "stream",
     "text": [
      "Saved to: Uelsby.txt\n",
      "Saved to: Wehlaberg.txt\n"
     ]
    },
    {
     "name": "stderr",
     "output_type": "stream",
     "text": [
      " 37%|███▋      | 41/110 [00:08<00:16,  4.25it/s]"
     ]
    },
    {
     "name": "stdout",
     "output_type": "stream",
     "text": [
      "Saved to: Wernshausen.txt\n"
     ]
    },
    {
     "name": "stderr",
     "output_type": "stream",
     "text": [
      " 39%|███▉      | 43/110 [00:08<00:16,  4.02it/s]"
     ]
    },
    {
     "name": "stdout",
     "output_type": "stream",
     "text": [
      "Saved to: Andrew_Kippis.txt\n",
      "Saved to: Yayoidai_Station.txt\n",
      "Saved to: African_grey_hornbill.txt\n"
     ]
    },
    {
     "name": "stderr",
     "output_type": "stream",
     "text": [
      " 41%|████      | 45/110 [00:09<00:14,  4.62it/s]"
     ]
    },
    {
     "name": "stdout",
     "output_type": "stream",
     "text": [
      "Saved to: Bornean_mountain_ground_squirrel.txt\n"
     ]
    },
    {
     "name": "stderr",
     "output_type": "stream",
     "text": [
      " 43%|████▎     | 47/110 [00:09<00:13,  4.59it/s]"
     ]
    },
    {
     "name": "stdout",
     "output_type": "stream",
     "text": [
      "Saved to: Enallagma_truncatum.txt\n",
      "Saved to: Lepiota_helveola.txt\n",
      "Saved to: Lygodium_microphyllum.txt\n"
     ]
    },
    {
     "name": "stderr",
     "output_type": "stream",
     "text": [
      " 45%|████▍     | 49/110 [00:10<00:22,  2.70it/s]"
     ]
    },
    {
     "name": "stdout",
     "output_type": "stream",
     "text": [
      "Saved to: Ovophis.txt\n"
     ]
    },
    {
     "name": "stderr",
     "output_type": "stream",
     "text": [
      " 46%|████▋     | 51/110 [00:11<00:22,  2.62it/s]"
     ]
    },
    {
     "name": "stdout",
     "output_type": "stream",
     "text": [
      "Saved to: Rubus_arizonensis.txt\n",
      "Saved to: Siamese_mud_carp.txt\n"
     ]
    },
    {
     "name": "stderr",
     "output_type": "stream",
     "text": [
      " 48%|████▊     | 53/110 [00:11<00:15,  3.69it/s]"
     ]
    },
    {
     "name": "stdout",
     "output_type": "stream",
     "text": [
      "Saved to: Anthony_Beaumont-Dark.txt\n",
      "Saved to: Trachelipus_dimorphus.txt\n"
     ]
    },
    {
     "name": "stderr",
     "output_type": "stream",
     "text": [
      " 49%|████▉     | 54/110 [00:12<00:13,  4.31it/s]"
     ]
    },
    {
     "name": "stdout",
     "output_type": "stream",
     "text": [
      "Saved to: Hey_Boy_(Teddybears_song).txt\n"
     ]
    },
    {
     "name": "stderr",
     "output_type": "stream",
     "text": [
      " 50%|█████     | 55/110 [00:12<00:23,  2.37it/s]"
     ]
    },
    {
     "name": "stdout",
     "output_type": "stream",
     "text": [
      "Saved to: King_of_the_Mountain_(film).txt\n"
     ]
    },
    {
     "name": "stderr",
     "output_type": "stream",
     "text": [
      " 52%|█████▏    | 57/110 [00:13<00:16,  3.15it/s]"
     ]
    },
    {
     "name": "stdout",
     "output_type": "stream",
     "text": [
      "Saved to: Our_Leading_Citizen_(1939_film).txt\n",
      "Saved to: Simon_(2004_film).txt\n"
     ]
    },
    {
     "name": "stderr",
     "output_type": "stream",
     "text": [
      " 53%|█████▎    | 58/110 [00:13<00:20,  2.57it/s]"
     ]
    },
    {
     "name": "stdout",
     "output_type": "stream",
     "text": [
      "Saved to: Sky_(Faye_Wong_album).txt\n"
     ]
    },
    {
     "name": "stderr",
     "output_type": "stream",
     "text": [
      " 55%|█████▍    | 60/110 [00:14<00:14,  3.53it/s]"
     ]
    },
    {
     "name": "stdout",
     "output_type": "stream",
     "text": [
      "Saved to: Sting_Me.txt\n",
      "Saved to: The_Crowd_Snores.txt\n"
     ]
    },
    {
     "name": "stderr",
     "output_type": "stream",
     "text": [
      " 56%|█████▋    | 62/110 [00:14<00:10,  4.78it/s]"
     ]
    },
    {
     "name": "stdout",
     "output_type": "stream",
     "text": [
      "Saved to: Dallas_Keuchel.txt\n",
      "Saved to: Touch_of_Death_(1961_film).txt\n",
      "Saved to: Ashot_I_of_Iberia.txt\n"
     ]
    },
    {
     "name": "stderr",
     "output_type": "stream",
     "text": [
      " 58%|█████▊    | 64/110 [00:15<00:09,  4.68it/s]"
     ]
    },
    {
     "name": "stdout",
     "output_type": "stream",
     "text": [
      "Saved to: Cindy_Mackey.txt\n"
     ]
    },
    {
     "name": "stderr",
     "output_type": "stream",
     "text": [
      " 59%|█████▉    | 65/110 [00:15<00:16,  2.75it/s]"
     ]
    },
    {
     "name": "stdout",
     "output_type": "stream",
     "text": [
      "Saved to: Edmund_Smith_Conklin.txt\n"
     ]
    },
    {
     "name": "stderr",
     "output_type": "stream",
     "text": [
      " 61%|██████    | 67/110 [00:16<00:13,  3.15it/s]"
     ]
    },
    {
     "name": "stdout",
     "output_type": "stream",
     "text": [
      "Saved to: Fabrice_Gautrat.txt\n",
      "Saved to: Hiroshi_Mori_(writer).txt\n",
      "Saved to: Momchil_Tsvetanov.txt\n"
     ]
    },
    {
     "name": "stderr",
     "output_type": "stream",
     "text": [
      " 63%|██████▎   | 69/110 [00:16<00:09,  4.51it/s]"
     ]
    },
    {
     "name": "stdout",
     "output_type": "stream",
     "text": [
      "Saved to: Najmadin_Shukr_Rauf.txt\n"
     ]
    },
    {
     "name": "stderr",
     "output_type": "stream",
     "text": [
      " 65%|██████▍   | 71/110 [00:17<00:09,  4.06it/s]"
     ]
    },
    {
     "name": "stdout",
     "output_type": "stream",
     "text": [
      "Saved to: Storme_Warren.txt\n",
      "Saved to: E._K._Mawlong.txt\n"
     ]
    },
    {
     "name": "stderr",
     "output_type": "stream",
     "text": [
      " 66%|██████▋   | 73/110 [00:17<00:07,  5.12it/s]"
     ]
    },
    {
     "name": "stdout",
     "output_type": "stream",
     "text": [
      "Saved to: 1960_Glover_Trophy.txt\n",
      "Saved to: 1967_Italian_Grand_Prix.txt\n"
     ]
    },
    {
     "name": "stderr",
     "output_type": "stream",
     "text": [
      " 67%|██████▋   | 74/110 [00:17<00:07,  4.56it/s]"
     ]
    },
    {
     "name": "stdout",
     "output_type": "stream",
     "text": [
      "Saved to: 2008_Copa_del_Rey_Final.txt\n"
     ]
    },
    {
     "name": "stderr",
     "output_type": "stream",
     "text": [
      " 68%|██████▊   | 75/110 [00:18<00:12,  2.76it/s]"
     ]
    },
    {
     "name": "stdout",
     "output_type": "stream",
     "text": [
      "Saved to: 2010_Belgian_Super_Cup.txt\n"
     ]
    },
    {
     "name": "stderr",
     "output_type": "stream",
     "text": [
      " 70%|███████   | 77/110 [00:19<00:09,  3.36it/s]"
     ]
    },
    {
     "name": "stdout",
     "output_type": "stream",
     "text": [
      "Saved to: 2013_Slovak_Cup_Final.txt\n",
      "Saved to: Battle_of_Cepeda_(1820).txt\n"
     ]
    },
    {
     "name": "stderr",
     "output_type": "stream",
     "text": [
      " 71%|███████   | 78/110 [00:20<00:21,  1.47it/s]"
     ]
    },
    {
     "name": "stdout",
     "output_type": "stream",
     "text": [
      "Saved to: Battle_on_the_Elster.txt\n"
     ]
    },
    {
     "name": "stderr",
     "output_type": "stream",
     "text": [
      " 73%|███████▎  | 80/110 [00:21<00:16,  1.80it/s]"
     ]
    },
    {
     "name": "stdout",
     "output_type": "stream",
     "text": [
      "Saved to: Finn_Schiander.txt\n",
      "Saved to: Operation_Hump.txt\n"
     ]
    },
    {
     "name": "stderr",
     "output_type": "stream",
     "text": [
      " 75%|███████▍  | 82/110 [00:21<00:09,  2.92it/s]"
     ]
    },
    {
     "name": "stdout",
     "output_type": "stream",
     "text": [
      "Saved to: Darreh_Dang.txt\n",
      "Saved to: Jalalia,_Khyber_Pakhtunkhwa.txt\n"
     ]
    },
    {
     "name": "stderr",
     "output_type": "stream",
     "text": [
      " 75%|███████▌  | 83/110 [00:22<00:07,  3.49it/s]"
     ]
    },
    {
     "name": "stdout",
     "output_type": "stream",
     "text": [
      "Saved to: Kings_Ripton.txt\n"
     ]
    },
    {
     "name": "stderr",
     "output_type": "stream",
     "text": [
      " 77%|███████▋  | 85/110 [00:22<00:07,  3.29it/s]"
     ]
    },
    {
     "name": "stdout",
     "output_type": "stream",
     "text": [
      "Saved to: Kotumachagi.txt\n",
      "Saved to: Muławki.txt\n"
     ]
    },
    {
     "name": "stderr",
     "output_type": "stream",
     "text": [
      " 78%|███████▊  | 86/110 [00:22<00:06,  3.89it/s]"
     ]
    },
    {
     "name": "stdout",
     "output_type": "stream",
     "text": [
      "Saved to: Pinnacle_Mountain_(South_Carolina).txt\n"
     ]
    },
    {
     "name": "stderr",
     "output_type": "stream",
     "text": [
      " 79%|███████▉  | 87/110 [00:23<00:06,  3.47it/s]"
     ]
    },
    {
     "name": "stdout",
     "output_type": "stream",
     "text": [
      "Saved to: Saint-Raphaël,_Var.txt\n"
     ]
    },
    {
     "name": "stderr",
     "output_type": "stream",
     "text": [
      " 80%|████████  | 88/110 [00:24<00:09,  2.41it/s]"
     ]
    },
    {
     "name": "stdout",
     "output_type": "stream",
     "text": [
      "Saved to: Sauxillanges.txt\n"
     ]
    },
    {
     "name": "stderr",
     "output_type": "stream",
     "text": [
      " 81%|████████  | 89/110 [00:25<00:12,  1.65it/s]"
     ]
    },
    {
     "name": "stdout",
     "output_type": "stream",
     "text": [
      "Saved to: Stara_Bučka.txt\n"
     ]
    },
    {
     "name": "stderr",
     "output_type": "stream",
     "text": [
      " 82%|████████▏ | 90/110 [00:25<00:10,  1.93it/s]"
     ]
    },
    {
     "name": "stdout",
     "output_type": "stream",
     "text": [
      "Saved to: Hagar_Wilde.txt\n"
     ]
    },
    {
     "name": "stderr",
     "output_type": "stream",
     "text": [
      " 84%|████████▎ | 92/110 [00:26<00:08,  2.13it/s]"
     ]
    },
    {
     "name": "stdout",
     "output_type": "stream",
     "text": [
      "Saved to: Zarudcze.txt\n",
      "Saved to: Amphisbaena_ridleyi.txt\n"
     ]
    },
    {
     "name": "stderr",
     "output_type": "stream",
     "text": [
      " 85%|████████▌ | 94/110 [00:26<00:04,  3.34it/s]"
     ]
    },
    {
     "name": "stdout",
     "output_type": "stream",
     "text": [
      "Saved to: Balanites.txt\n",
      "Saved to: Bryotropha_plantariella.txt\n"
     ]
    },
    {
     "name": "stderr",
     "output_type": "stream",
     "text": [
      " 87%|████████▋ | 96/110 [00:26<00:03,  4.25it/s]"
     ]
    },
    {
     "name": "stdout",
     "output_type": "stream",
     "text": [
      "Saved to: Hilarographa_excellens.txt\n",
      "Saved to: Inverted_repeat-lacking_clade.txt\n"
     ]
    },
    {
     "name": "stderr",
     "output_type": "stream",
     "text": [
      " 89%|████████▉ | 98/110 [00:27<00:03,  3.85it/s]"
     ]
    },
    {
     "name": "stdout",
     "output_type": "stream",
     "text": [
      "Saved to: Melaleuca_sheathiana.txt\n",
      "Saved to: Pseudanos_trimaculatus.txt\n"
     ]
    },
    {
     "name": "stderr",
     "output_type": "stream",
     "text": [
      " 90%|█████████ | 99/110 [00:27<00:03,  3.39it/s]"
     ]
    },
    {
     "name": "stdout",
     "output_type": "stream",
     "text": [
      "Saved to: Stemonoporus_laevifolius.txt\n"
     ]
    },
    {
     "name": "stderr",
     "output_type": "stream",
     "text": [
      " 92%|█████████▏| 101/110 [00:28<00:02,  3.90it/s]"
     ]
    },
    {
     "name": "stdout",
     "output_type": "stream",
     "text": [
      "Saved to: Thaia_saprophytica.txt\n",
      "Saved to: Trichoscypha_cavalliensis.txt\n"
     ]
    },
    {
     "name": "stderr",
     "output_type": "stream",
     "text": [
      " 95%|█████████▍| 104/110 [00:28<00:00,  6.05it/s]"
     ]
    },
    {
     "name": "stdout",
     "output_type": "stream",
     "text": [
      "Saved to: 392_(album).txt\n",
      "Saved to: Drama_City.txt\n",
      "Saved to: If_(Glasvegas_song).txt\n"
     ]
    },
    {
     "name": "stderr",
     "output_type": "stream",
     "text": [
      " 95%|█████████▌| 105/110 [00:28<00:00,  6.27it/s]"
     ]
    },
    {
     "name": "stdout",
     "output_type": "stream",
     "text": [
      "Saved to: Intensive_Care_Medicine_(journal).txt\n",
      "Saved to: It's_Still_Rock_and_Roll_to_Me.txt\n",
      "Saved to: Politiken.txt\n"
     ]
    },
    {
     "name": "stderr",
     "output_type": "stream",
     "text": [
      " 98%|█████████▊| 108/110 [00:29<00:00,  8.53it/s]"
     ]
    },
    {
     "name": "stdout",
     "output_type": "stream",
     "text": [
      "Saved to: Rebel_Love_Song.txt\n",
      "Saved to: Terrorist_Threats.txt\n"
     ]
    },
    {
     "name": "stderr",
     "output_type": "stream",
     "text": [
      "100%|██████████| 110/110 [00:30<00:00,  3.66it/s]"
     ]
    },
    {
     "name": "stdout",
     "output_type": "stream",
     "text": [
      "Saved to: Time_(Dave_Clark_album).txt\n",
      "count:  110\n"
     ]
    },
    {
     "name": "stderr",
     "output_type": "stream",
     "text": [
      "\n"
     ]
    }
   ],
   "source": [
    "import requests\n",
    "from urllib.parse import unquote\n",
    "from tqdm import tqdm\n",
    "\n",
    "def dbpedia_uri_to_title(uri):\n",
    "    return unquote(uri.split(\"/\")[-1]).replace(\"_\", \" \")\n",
    "\n",
    "def get_first_paragraph_wikipedia_rest(title, lang='en'):\n",
    "    url = f\"https://{lang}.wikipedia.org/api/rest_v1/page/summary/{title.replace(' ', '_')}\"\n",
    "    response = requests.get(url)\n",
    "    if response.status_code == 200:\n",
    "        return response.json().get(\"extract\", \"No extract found.\")\n",
    "    elif response.status_code == 404:\n",
    "        return \"Wikipedia page not found.\"\n",
    "    else:\n",
    "        return f\"Error: HTTP {response.status_code}\"\n",
    "        \n",
    "def save_paragraph_to_txt(entity, paragraph):\n",
    "    filename = entity.split(\"/\")[-1] + \".txt\"\n",
    "    with open(f\"data.v.1.2/{essum_dataset}/ESSUM/silver-standard-summaries/{filename}\", \"w\", encoding=\"utf-8\") as f:\n",
    "        f.write(paragraph)\n",
    "    print(f\"Saved to: {filename}\")\n",
    "    \n",
    "def is_empty_paragraph(text):\n",
    "    return not text or text.strip() == \"\"\n",
    "    \n",
    "count = 0\n",
    "for uri in tqdm(entity_uris): \n",
    "    dbpedia_uri = uri\n",
    "    title = dbpedia_uri_to_title(dbpedia_uri)\n",
    "    paragraph = get_first_paragraph_wikipedia_rest(title)\n",
    "    if is_empty_paragraph(paragraph):\n",
    "        print(f\"{dbpedia_uri} has no text\")\n",
    "        continue\n",
    "    else:\n",
    "        save_paragraph_to_txt(dbpedia_uri, paragraph)\n",
    "        count += 1\n",
    "    #print(f\"Wikipedia title: {title}\")\n",
    "    #print(\"First paragraph:\\n\", paragraph)\n",
    "print(\"count: \", count)"
   ]
  },
  {
   "cell_type": "code",
   "execution_count": null,
   "id": "a5fcd47c-3246-4f1b-bd79-b0f9068c60a5",
   "metadata": {},
   "outputs": [],
   "source": []
  }
 ],
 "metadata": {
  "kernelspec": {
   "display_name": "dice",
   "language": "python",
   "name": "dice"
  },
  "language_info": {
   "codemirror_mode": {
    "name": "ipython",
    "version": 3
   },
   "file_extension": ".py",
   "mimetype": "text/x-python",
   "name": "python",
   "nbconvert_exporter": "python",
   "pygments_lexer": "ipython3",
   "version": "3.10.17"
  }
 },
 "nbformat": 4,
 "nbformat_minor": 5
}
